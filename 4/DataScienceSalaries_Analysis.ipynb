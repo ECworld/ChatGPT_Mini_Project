{
 "cells": [
  {
   "attachments": {},
   "cell_type": "markdown",
   "id": "7e20a839",
   "metadata": {},
   "source": [
    "### ChatGPT를 활용한 데이터 분석"
   ]
  },
  {
   "attachments": {},
   "cell_type": "markdown",
   "id": "7411e8f8",
   "metadata": {},
   "source": [
    "* 데이터 소개\n",
    "\n",
    "데이터 셋 URL : https://www.kaggle.com/datasets/arnabchaki/data-science-salaries-2023\n",
    "  * 데이터 과학 분야에서 근무하는 사람들의 연봉 정보를 담고 있음.\n",
    "  * 2023년 정보를 포함.\n",
    "\n",
    "```\n",
    "데이터 과학 채용 연봉 데이터셋은 총 11개의 열(column)로 구성되어 있습니다. 각각의 열은 다음과 같음\n",
    "\n",
    "work_year: 연봉이 지급된 해(연도)\n",
    "experience_level: 해당 연도에 해당하는 직무 경력 수준\n",
    "employment_type: 해당 직무의 고용 형태\n",
    "job_title: 해당 연도에 근무한 직무\n",
    "salary: 총 지급된 급여 총액\n",
    "salary_currency: 급여 통화 (ISO 4217 통화 코드)\n",
    "salaryinusd: 미국 달러로 환산된 급여\n",
    "employee_residence: 해당 연도에 근무한 직원의 주요 거주 국가 (ISO 3166 국가 코드)\n",
    "remote_ratio: 원격으로 수행된 업무 비율\n",
    "company_location: 고용주의 본사나 계약 지점이 위치한 국가\n",
    "company_size: 해당 연도에 근무한 회사의 중앙값 인원 수\n",
    "\n",
    "```"
   ]
  },
  {
   "attachments": {},
   "cell_type": "markdown",
   "id": "f672a190",
   "metadata": {},
   "source": [
    "### 필수 라이브러리 불러오기"
   ]
  },
  {
   "cell_type": "code",
   "execution_count": 1,
   "id": "14e8ee97",
   "metadata": {},
   "outputs": [],
   "source": [
    "import pandas as pd\n",
    "import seaborn as sns\n",
    "import matplotlib.pyplot as plt\n",
    "import matplotlib\n",
    "import folium"
   ]
  },
  {
   "attachments": {},
   "cell_type": "markdown",
   "id": "500927aa",
   "metadata": {},
   "source": [
    "### 데이터 불러오기"
   ]
  },
  {
   "cell_type": "code",
   "execution_count": 2,
   "id": "f95e04a1",
   "metadata": {},
   "outputs": [
    {
     "data": {
      "text/plain": [
       "(3755, 11)"
      ]
     },
     "execution_count": 2,
     "metadata": {},
     "output_type": "execute_result"
    }
   ],
   "source": [
    "# CSV 파일 경로 지정\n",
    "file_path = \"ds_salaries.csv\"\n",
    "\n",
    "# CSV 파일 불러오기\n",
    "df = pd.read_csv(file_path)\n",
    "df.shape"
   ]
  },
  {
   "attachments": {},
   "cell_type": "markdown",
   "id": "490839c6",
   "metadata": {},
   "source": [
    "### 데이터 탐색"
   ]
  },
  {
   "cell_type": "code",
   "execution_count": 3,
   "id": "5ec7f39b",
   "metadata": {},
   "outputs": [
    {
     "data": {
      "text/html": [
       "<div>\n",
       "<style scoped>\n",
       "    .dataframe tbody tr th:only-of-type {\n",
       "        vertical-align: middle;\n",
       "    }\n",
       "\n",
       "    .dataframe tbody tr th {\n",
       "        vertical-align: top;\n",
       "    }\n",
       "\n",
       "    .dataframe thead th {\n",
       "        text-align: right;\n",
       "    }\n",
       "</style>\n",
       "<table border=\"1\" class=\"dataframe\">\n",
       "  <thead>\n",
       "    <tr style=\"text-align: right;\">\n",
       "      <th></th>\n",
       "      <th>work_year</th>\n",
       "      <th>experience_level</th>\n",
       "      <th>employment_type</th>\n",
       "      <th>job_title</th>\n",
       "      <th>salary</th>\n",
       "      <th>salary_currency</th>\n",
       "      <th>salary_in_usd</th>\n",
       "      <th>employee_residence</th>\n",
       "      <th>remote_ratio</th>\n",
       "      <th>company_location</th>\n",
       "      <th>company_size</th>\n",
       "    </tr>\n",
       "  </thead>\n",
       "  <tbody>\n",
       "    <tr>\n",
       "      <th>0</th>\n",
       "      <td>2023</td>\n",
       "      <td>SE</td>\n",
       "      <td>FT</td>\n",
       "      <td>Principal Data Scientist</td>\n",
       "      <td>80000</td>\n",
       "      <td>EUR</td>\n",
       "      <td>85847</td>\n",
       "      <td>ES</td>\n",
       "      <td>100</td>\n",
       "      <td>ES</td>\n",
       "      <td>L</td>\n",
       "    </tr>\n",
       "    <tr>\n",
       "      <th>1</th>\n",
       "      <td>2023</td>\n",
       "      <td>MI</td>\n",
       "      <td>CT</td>\n",
       "      <td>ML Engineer</td>\n",
       "      <td>30000</td>\n",
       "      <td>USD</td>\n",
       "      <td>30000</td>\n",
       "      <td>US</td>\n",
       "      <td>100</td>\n",
       "      <td>US</td>\n",
       "      <td>S</td>\n",
       "    </tr>\n",
       "    <tr>\n",
       "      <th>2</th>\n",
       "      <td>2023</td>\n",
       "      <td>MI</td>\n",
       "      <td>CT</td>\n",
       "      <td>ML Engineer</td>\n",
       "      <td>25500</td>\n",
       "      <td>USD</td>\n",
       "      <td>25500</td>\n",
       "      <td>US</td>\n",
       "      <td>100</td>\n",
       "      <td>US</td>\n",
       "      <td>S</td>\n",
       "    </tr>\n",
       "  </tbody>\n",
       "</table>\n",
       "</div>"
      ],
      "text/plain": [
       "   work_year experience_level employment_type                 job_title  \\\n",
       "0       2023               SE              FT  Principal Data Scientist   \n",
       "1       2023               MI              CT               ML Engineer   \n",
       "2       2023               MI              CT               ML Engineer   \n",
       "\n",
       "   salary salary_currency  salary_in_usd employee_residence  remote_ratio  \\\n",
       "0   80000             EUR          85847                 ES           100   \n",
       "1   30000             USD          30000                 US           100   \n",
       "2   25500             USD          25500                 US           100   \n",
       "\n",
       "  company_location company_size  \n",
       "0               ES            L  \n",
       "1               US            S  \n",
       "2               US            S  "
      ]
     },
     "execution_count": 3,
     "metadata": {},
     "output_type": "execute_result"
    }
   ],
   "source": [
    "df.head(3)"
   ]
  },
  {
   "cell_type": "code",
   "execution_count": 4,
   "id": "28418f63",
   "metadata": {},
   "outputs": [
    {
     "data": {
      "text/html": [
       "<div>\n",
       "<style scoped>\n",
       "    .dataframe tbody tr th:only-of-type {\n",
       "        vertical-align: middle;\n",
       "    }\n",
       "\n",
       "    .dataframe tbody tr th {\n",
       "        vertical-align: top;\n",
       "    }\n",
       "\n",
       "    .dataframe thead th {\n",
       "        text-align: right;\n",
       "    }\n",
       "</style>\n",
       "<table border=\"1\" class=\"dataframe\">\n",
       "  <thead>\n",
       "    <tr style=\"text-align: right;\">\n",
       "      <th></th>\n",
       "      <th>work_year</th>\n",
       "      <th>experience_level</th>\n",
       "      <th>employment_type</th>\n",
       "      <th>job_title</th>\n",
       "      <th>salary</th>\n",
       "      <th>salary_currency</th>\n",
       "      <th>salary_in_usd</th>\n",
       "      <th>employee_residence</th>\n",
       "      <th>remote_ratio</th>\n",
       "      <th>company_location</th>\n",
       "      <th>company_size</th>\n",
       "    </tr>\n",
       "  </thead>\n",
       "  <tbody>\n",
       "    <tr>\n",
       "      <th>3752</th>\n",
       "      <td>2020</td>\n",
       "      <td>EN</td>\n",
       "      <td>FT</td>\n",
       "      <td>Data Scientist</td>\n",
       "      <td>105000</td>\n",
       "      <td>USD</td>\n",
       "      <td>105000</td>\n",
       "      <td>US</td>\n",
       "      <td>100</td>\n",
       "      <td>US</td>\n",
       "      <td>S</td>\n",
       "    </tr>\n",
       "    <tr>\n",
       "      <th>3753</th>\n",
       "      <td>2020</td>\n",
       "      <td>EN</td>\n",
       "      <td>CT</td>\n",
       "      <td>Business Data Analyst</td>\n",
       "      <td>100000</td>\n",
       "      <td>USD</td>\n",
       "      <td>100000</td>\n",
       "      <td>US</td>\n",
       "      <td>100</td>\n",
       "      <td>US</td>\n",
       "      <td>L</td>\n",
       "    </tr>\n",
       "    <tr>\n",
       "      <th>3754</th>\n",
       "      <td>2021</td>\n",
       "      <td>SE</td>\n",
       "      <td>FT</td>\n",
       "      <td>Data Science Manager</td>\n",
       "      <td>7000000</td>\n",
       "      <td>INR</td>\n",
       "      <td>94665</td>\n",
       "      <td>IN</td>\n",
       "      <td>50</td>\n",
       "      <td>IN</td>\n",
       "      <td>L</td>\n",
       "    </tr>\n",
       "  </tbody>\n",
       "</table>\n",
       "</div>"
      ],
      "text/plain": [
       "      work_year experience_level employment_type              job_title  \\\n",
       "3752       2020               EN              FT         Data Scientist   \n",
       "3753       2020               EN              CT  Business Data Analyst   \n",
       "3754       2021               SE              FT   Data Science Manager   \n",
       "\n",
       "       salary salary_currency  salary_in_usd employee_residence  remote_ratio  \\\n",
       "3752   105000             USD         105000                 US           100   \n",
       "3753   100000             USD         100000                 US           100   \n",
       "3754  7000000             INR          94665                 IN            50   \n",
       "\n",
       "     company_location company_size  \n",
       "3752               US            S  \n",
       "3753               US            L  \n",
       "3754               IN            L  "
      ]
     },
     "execution_count": 4,
     "metadata": {},
     "output_type": "execute_result"
    }
   ],
   "source": [
    "df.tail(3)"
   ]
  },
  {
   "attachments": {},
   "cell_type": "markdown",
   "id": "ac9c0176",
   "metadata": {},
   "source": [
    "* 2020년도 연봉이 지급된 사람도 있음"
   ]
  },
  {
   "cell_type": "code",
   "execution_count": 5,
   "id": "8de88f82",
   "metadata": {},
   "outputs": [
    {
     "data": {
      "text/plain": [
       "work_year             0\n",
       "experience_level      0\n",
       "employment_type       0\n",
       "job_title             0\n",
       "salary                0\n",
       "salary_currency       0\n",
       "salary_in_usd         0\n",
       "employee_residence    0\n",
       "remote_ratio          0\n",
       "company_location      0\n",
       "company_size          0\n",
       "dtype: int64"
      ]
     },
     "execution_count": 5,
     "metadata": {},
     "output_type": "execute_result"
    }
   ],
   "source": [
    "df.isnull().sum()"
   ]
  },
  {
   "attachments": {},
   "cell_type": "markdown",
   "id": "8c418ac1",
   "metadata": {},
   "source": [
    "* 비어있는 값(결측치)는 없음"
   ]
  },
  {
   "cell_type": "code",
   "execution_count": 6,
   "id": "d7b684f7",
   "metadata": {},
   "outputs": [
    {
     "data": {
      "text/html": [
       "<div>\n",
       "<style scoped>\n",
       "    .dataframe tbody tr th:only-of-type {\n",
       "        vertical-align: middle;\n",
       "    }\n",
       "\n",
       "    .dataframe tbody tr th {\n",
       "        vertical-align: top;\n",
       "    }\n",
       "\n",
       "    .dataframe thead th {\n",
       "        text-align: right;\n",
       "    }\n",
       "</style>\n",
       "<table border=\"1\" class=\"dataframe\">\n",
       "  <thead>\n",
       "    <tr style=\"text-align: right;\">\n",
       "      <th></th>\n",
       "      <th>work_year</th>\n",
       "      <th>salary</th>\n",
       "      <th>salary_in_usd</th>\n",
       "      <th>remote_ratio</th>\n",
       "    </tr>\n",
       "  </thead>\n",
       "  <tbody>\n",
       "    <tr>\n",
       "      <th>count</th>\n",
       "      <td>3755.000000</td>\n",
       "      <td>3.755000e+03</td>\n",
       "      <td>3755.000000</td>\n",
       "      <td>3755.000000</td>\n",
       "    </tr>\n",
       "    <tr>\n",
       "      <th>mean</th>\n",
       "      <td>2022.373635</td>\n",
       "      <td>1.906956e+05</td>\n",
       "      <td>137570.389880</td>\n",
       "      <td>46.271638</td>\n",
       "    </tr>\n",
       "    <tr>\n",
       "      <th>std</th>\n",
       "      <td>0.691448</td>\n",
       "      <td>6.716765e+05</td>\n",
       "      <td>63055.625278</td>\n",
       "      <td>48.589050</td>\n",
       "    </tr>\n",
       "    <tr>\n",
       "      <th>min</th>\n",
       "      <td>2020.000000</td>\n",
       "      <td>6.000000e+03</td>\n",
       "      <td>5132.000000</td>\n",
       "      <td>0.000000</td>\n",
       "    </tr>\n",
       "    <tr>\n",
       "      <th>25%</th>\n",
       "      <td>2022.000000</td>\n",
       "      <td>1.000000e+05</td>\n",
       "      <td>95000.000000</td>\n",
       "      <td>0.000000</td>\n",
       "    </tr>\n",
       "    <tr>\n",
       "      <th>50%</th>\n",
       "      <td>2022.000000</td>\n",
       "      <td>1.380000e+05</td>\n",
       "      <td>135000.000000</td>\n",
       "      <td>0.000000</td>\n",
       "    </tr>\n",
       "    <tr>\n",
       "      <th>75%</th>\n",
       "      <td>2023.000000</td>\n",
       "      <td>1.800000e+05</td>\n",
       "      <td>175000.000000</td>\n",
       "      <td>100.000000</td>\n",
       "    </tr>\n",
       "    <tr>\n",
       "      <th>max</th>\n",
       "      <td>2023.000000</td>\n",
       "      <td>3.040000e+07</td>\n",
       "      <td>450000.000000</td>\n",
       "      <td>100.000000</td>\n",
       "    </tr>\n",
       "  </tbody>\n",
       "</table>\n",
       "</div>"
      ],
      "text/plain": [
       "         work_year        salary  salary_in_usd  remote_ratio\n",
       "count  3755.000000  3.755000e+03    3755.000000   3755.000000\n",
       "mean   2022.373635  1.906956e+05  137570.389880     46.271638\n",
       "std       0.691448  6.716765e+05   63055.625278     48.589050\n",
       "min    2020.000000  6.000000e+03    5132.000000      0.000000\n",
       "25%    2022.000000  1.000000e+05   95000.000000      0.000000\n",
       "50%    2022.000000  1.380000e+05  135000.000000      0.000000\n",
       "75%    2023.000000  1.800000e+05  175000.000000    100.000000\n",
       "max    2023.000000  3.040000e+07  450000.000000    100.000000"
      ]
     },
     "execution_count": 6,
     "metadata": {},
     "output_type": "execute_result"
    }
   ],
   "source": [
    "df.describe()"
   ]
  },
  {
   "attachments": {},
   "cell_type": "markdown",
   "id": "79adf8d6",
   "metadata": {},
   "source": [
    "* 수치형 데이터에 대해서 통계값(개수, 평균, 표준편차, 최소, 최대값 등)"
   ]
  },
  {
   "attachments": {},
   "cell_type": "markdown",
   "id": "54a28864",
   "metadata": {},
   "source": [
    "* 2020년부터 2023년까지의 데이터\n",
    "* 여러국가의 연봉(USD, EUR 등) \n",
    "    * 몇개 국가의 연봉일까?\n",
    "* 미국 달러 환산 급여로 최소($5132 ~ $450000) - 약 600만원 ~ 약 5억 2천\n",
    "    * 600만원 받는 사람의 정보는?\n",
    "    * 5억 2천 받는 사람의 정보는?\n",
    "* remote_ratio : 원격 근무 비율\n",
    "    * 원격 근무가 전혀 없는 사람이 있다.\n",
    "    * 전부 재택 근무를 하는 사람도 있다.\n",
    "    * 데이터가 어떻게 되어 있을까?"
   ]
  },
  {
   "cell_type": "code",
   "execution_count": 7,
   "id": "3397d7ae",
   "metadata": {},
   "outputs": [
    {
     "data": {
      "text/html": [
       "<div>\n",
       "<style scoped>\n",
       "    .dataframe tbody tr th:only-of-type {\n",
       "        vertical-align: middle;\n",
       "    }\n",
       "\n",
       "    .dataframe tbody tr th {\n",
       "        vertical-align: top;\n",
       "    }\n",
       "\n",
       "    .dataframe thead th {\n",
       "        text-align: right;\n",
       "    }\n",
       "</style>\n",
       "<table border=\"1\" class=\"dataframe\">\n",
       "  <thead>\n",
       "    <tr style=\"text-align: right;\">\n",
       "      <th></th>\n",
       "      <th>work_year</th>\n",
       "      <th>experience_level</th>\n",
       "      <th>employment_type</th>\n",
       "      <th>job_title</th>\n",
       "      <th>salary</th>\n",
       "      <th>salary_currency</th>\n",
       "      <th>salary_in_usd</th>\n",
       "      <th>employee_residence</th>\n",
       "      <th>remote_ratio</th>\n",
       "      <th>company_location</th>\n",
       "      <th>company_size</th>\n",
       "    </tr>\n",
       "  </thead>\n",
       "  <tbody>\n",
       "    <tr>\n",
       "      <th>0</th>\n",
       "      <td>2023</td>\n",
       "      <td>SE</td>\n",
       "      <td>FT</td>\n",
       "      <td>Principal Data Scientist</td>\n",
       "      <td>80000</td>\n",
       "      <td>EUR</td>\n",
       "      <td>85847</td>\n",
       "      <td>ES</td>\n",
       "      <td>100</td>\n",
       "      <td>ES</td>\n",
       "      <td>L</td>\n",
       "    </tr>\n",
       "    <tr>\n",
       "      <th>1</th>\n",
       "      <td>2023</td>\n",
       "      <td>MI</td>\n",
       "      <td>CT</td>\n",
       "      <td>ML Engineer</td>\n",
       "      <td>30000</td>\n",
       "      <td>USD</td>\n",
       "      <td>30000</td>\n",
       "      <td>US</td>\n",
       "      <td>100</td>\n",
       "      <td>US</td>\n",
       "      <td>S</td>\n",
       "    </tr>\n",
       "    <tr>\n",
       "      <th>2</th>\n",
       "      <td>2023</td>\n",
       "      <td>MI</td>\n",
       "      <td>CT</td>\n",
       "      <td>ML Engineer</td>\n",
       "      <td>25500</td>\n",
       "      <td>USD</td>\n",
       "      <td>25500</td>\n",
       "      <td>US</td>\n",
       "      <td>100</td>\n",
       "      <td>US</td>\n",
       "      <td>S</td>\n",
       "    </tr>\n",
       "    <tr>\n",
       "      <th>3</th>\n",
       "      <td>2023</td>\n",
       "      <td>SE</td>\n",
       "      <td>FT</td>\n",
       "      <td>Data Scientist</td>\n",
       "      <td>175000</td>\n",
       "      <td>USD</td>\n",
       "      <td>175000</td>\n",
       "      <td>CA</td>\n",
       "      <td>100</td>\n",
       "      <td>CA</td>\n",
       "      <td>M</td>\n",
       "    </tr>\n",
       "    <tr>\n",
       "      <th>4</th>\n",
       "      <td>2023</td>\n",
       "      <td>SE</td>\n",
       "      <td>FT</td>\n",
       "      <td>Data Scientist</td>\n",
       "      <td>120000</td>\n",
       "      <td>USD</td>\n",
       "      <td>120000</td>\n",
       "      <td>CA</td>\n",
       "      <td>100</td>\n",
       "      <td>CA</td>\n",
       "      <td>M</td>\n",
       "    </tr>\n",
       "  </tbody>\n",
       "</table>\n",
       "</div>"
      ],
      "text/plain": [
       "   work_year experience_level employment_type                 job_title  \\\n",
       "0       2023               SE              FT  Principal Data Scientist   \n",
       "1       2023               MI              CT               ML Engineer   \n",
       "2       2023               MI              CT               ML Engineer   \n",
       "3       2023               SE              FT            Data Scientist   \n",
       "4       2023               SE              FT            Data Scientist   \n",
       "\n",
       "   salary salary_currency  salary_in_usd employee_residence  remote_ratio  \\\n",
       "0   80000             EUR          85847                 ES           100   \n",
       "1   30000             USD          30000                 US           100   \n",
       "2   25500             USD          25500                 US           100   \n",
       "3  175000             USD         175000                 CA           100   \n",
       "4  120000             USD         120000                 CA           100   \n",
       "\n",
       "  company_location company_size  \n",
       "0               ES            L  \n",
       "1               US            S  \n",
       "2               US            S  \n",
       "3               CA            M  \n",
       "4               CA            M  "
      ]
     },
     "execution_count": 7,
     "metadata": {},
     "output_type": "execute_result"
    }
   ],
   "source": [
    "df.head()"
   ]
  },
  {
   "attachments": {},
   "cell_type": "markdown",
   "id": "37571374",
   "metadata": {},
   "source": [
    "* 추가 궁금한 것\n",
    "  * 직무별 임금의 평균(job_title, salary_in_usd 관련 컬럼)\n",
    "    * 직무별 상위 10%의 직무 경력 수준(job_title, salary_in_usd, experience_level 관련 컬럼)\n",
    "  * 해당 근무 연도와 거주 국가를 활용한 미국 달러로 표시된 급여(work_year, company_location, salary_in_usd)\n",
    "  * 직무별, 연차별, 기업 규모별 연봉(job_title, experience_level, company_size 관련 컬럼)"
   ]
  },
  {
   "attachments": {},
   "cell_type": "markdown",
   "id": "0acce285",
   "metadata": {},
   "source": [
    "### 직무별 임금의 평균(job_title, salary_in_usd 관련 컬럼)"
   ]
  },
  {
   "cell_type": "code",
   "execution_count": 8,
   "id": "0baeefca",
   "metadata": {},
   "outputs": [
    {
     "data": {
      "text/plain": [
       "(93,\n",
       " array(['Principal Data Scientist', 'ML Engineer', 'Data Scientist',\n",
       "        'Applied Scientist', 'Data Analyst', 'Data Modeler',\n",
       "        'Research Engineer', 'Analytics Engineer',\n",
       "        'Business Intelligence Engineer', 'Machine Learning Engineer',\n",
       "        'Data Strategist', 'Data Engineer', 'Computer Vision Engineer',\n",
       "        'Data Quality Analyst', 'Compliance Data Analyst',\n",
       "        'Data Architect', 'Applied Machine Learning Engineer',\n",
       "        'AI Developer', 'Research Scientist', 'Data Analytics Manager',\n",
       "        'Business Data Analyst', 'Applied Data Scientist',\n",
       "        'Staff Data Analyst', 'ETL Engineer', 'Data DevOps Engineer',\n",
       "        'Head of Data', 'Data Science Manager', 'Data Manager',\n",
       "        'Machine Learning Researcher', 'Big Data Engineer',\n",
       "        'Data Specialist', 'Lead Data Analyst', 'BI Data Engineer',\n",
       "        'Director of Data Science', 'Machine Learning Scientist',\n",
       "        'MLOps Engineer', 'AI Scientist', 'Autonomous Vehicle Technician',\n",
       "        'Applied Machine Learning Scientist', 'Lead Data Scientist',\n",
       "        'Cloud Database Engineer', 'Financial Data Analyst',\n",
       "        'Data Infrastructure Engineer', 'Software Data Engineer',\n",
       "        'AI Programmer', 'Data Operations Engineer', 'BI Developer',\n",
       "        'Data Science Lead', 'Deep Learning Researcher', 'BI Analyst',\n",
       "        'Data Science Consultant', 'Data Analytics Specialist',\n",
       "        'Machine Learning Infrastructure Engineer', 'BI Data Analyst',\n",
       "        'Head of Data Science', 'Insight Analyst',\n",
       "        'Deep Learning Engineer', 'Machine Learning Software Engineer',\n",
       "        'Big Data Architect', 'Product Data Analyst',\n",
       "        'Computer Vision Software Engineer', 'Azure Data Engineer',\n",
       "        'Marketing Data Engineer', 'Data Analytics Lead', 'Data Lead',\n",
       "        'Data Science Engineer', 'Machine Learning Research Engineer',\n",
       "        'NLP Engineer', 'Manager Data Management',\n",
       "        'Machine Learning Developer', '3D Computer Vision Researcher',\n",
       "        'Principal Machine Learning Engineer', 'Data Analytics Engineer',\n",
       "        'Data Analytics Consultant', 'Data Management Specialist',\n",
       "        'Data Science Tech Lead', 'Data Scientist Lead',\n",
       "        'Cloud Data Engineer', 'Data Operations Analyst',\n",
       "        'Marketing Data Analyst', 'Power BI Developer',\n",
       "        'Product Data Scientist', 'Principal Data Architect',\n",
       "        'Machine Learning Manager', 'Lead Machine Learning Engineer',\n",
       "        'ETL Developer', 'Cloud Data Architect', 'Lead Data Engineer',\n",
       "        'Head of Machine Learning', 'Principal Data Analyst',\n",
       "        'Principal Data Engineer', 'Staff Data Scientist',\n",
       "        'Finance Data Analyst'], dtype=object))"
      ]
     },
     "execution_count": 8,
     "metadata": {},
     "output_type": "execute_result"
    }
   ],
   "source": [
    "len(df['job_title'].unique()), df['job_title'].unique()"
   ]
  },
  {
   "attachments": {},
   "cell_type": "markdown",
   "id": "57f015dc",
   "metadata": {},
   "source": [
    "* 93개 직무가 있다."
   ]
  },
  {
   "cell_type": "code",
   "execution_count": 9,
   "id": "87933211",
   "metadata": {},
   "outputs": [
    {
     "data": {
      "text/plain": [
       "job_title\n",
       "3D Computer Vision Researcher     21352.250000\n",
       "AI Developer                     136666.090909\n",
       "AI Programmer                     55000.000000\n",
       "AI Scientist                     110120.875000\n",
       "Analytics Engineer               152368.631068\n",
       "                                     ...      \n",
       "Research Engineer                163108.378378\n",
       "Research Scientist               161214.195122\n",
       "Software Data Engineer            62510.000000\n",
       "Staff Data Analyst                15000.000000\n",
       "Staff Data Scientist             105000.000000\n",
       "Name: salary_in_usd, Length: 93, dtype: float64"
      ]
     },
     "execution_count": 9,
     "metadata": {},
     "output_type": "execute_result"
    }
   ],
   "source": [
    "df.groupby('job_title')['salary_in_usd'].mean()"
   ]
  },
  {
   "cell_type": "code",
   "execution_count": 10,
   "id": "f12113ae",
   "metadata": {},
   "outputs": [
    {
     "data": {
      "text/plain": [
       "job_title\n",
       "3D Computer Vision Researcher     21352.250000\n",
       "AI Developer                     136666.090909\n",
       "AI Programmer                     55000.000000\n",
       "AI Scientist                     110120.875000\n",
       "Analytics Engineer               152368.631068\n",
       "                                     ...      \n",
       "Research Engineer                163108.378378\n",
       "Research Scientist               161214.195122\n",
       "Software Data Engineer            62510.000000\n",
       "Staff Data Analyst                15000.000000\n",
       "Staff Data Scientist             105000.000000\n",
       "Name: salary_in_usd, Length: 93, dtype: float64"
      ]
     },
     "execution_count": 10,
     "metadata": {},
     "output_type": "execute_result"
    }
   ],
   "source": [
    "# 직무별 임금 평균 구하기\n",
    "salary_mean_by_job = df.groupby('job_title')['salary_in_usd'].mean()\n",
    "salary_mean_by_job"
   ]
  },
  {
   "attachments": {},
   "cell_type": "markdown",
   "id": "97f07e5d",
   "metadata": {},
   "source": [
    "* 추가 질문 \n",
    "  * 어떤 직무가 가장 연봉이 높을까?\n",
    "  * ChatGPT 질문 : 직무별 임금 평균을 구하고 가장 높은 연봉이 어떤 직무인지 알고 싶어, 코드를 부탁해."
   ]
  },
  {
   "cell_type": "code",
   "execution_count": 11,
   "id": "458156ec",
   "metadata": {},
   "outputs": [
    {
     "name": "stdout",
     "output_type": "stream",
     "text": [
      "가장 높은 직무와 연봉 : Data Science Tech Lead 375000.0\n"
     ]
    }
   ],
   "source": [
    "# 가장 높은 평균 연봉 구하기\n",
    "max_salary = salary_mean_by_job.max()\n",
    "# print( max_salary )\n",
    "\n",
    "# 가장 높은 평균 연봉을 가진 직무 구하기\n",
    "max_salary_job = salary_mean_by_job.idxmax()\n",
    "#print( max_salary_job )\n",
    "\n",
    "print(f\"가장 높은 직무와 연봉 : {max_salary_job} {max_salary}\")"
   ]
  },
  {
   "attachments": {},
   "cell_type": "markdown",
   "id": "57499b59",
   "metadata": {},
   "source": [
    "### 직무별 상위 10%의 직무 경력 수준\n",
    " * 관련 컬럼 : job_title, salary_in_usd, experience_level"
   ]
  },
  {
   "cell_type": "code",
   "execution_count": 12,
   "id": "b8a01ef7",
   "metadata": {},
   "outputs": [
    {
     "data": {
      "text/plain": [
       "job_title\n",
       "3D Computer Vision Researcher    EN\n",
       "AI Developer                     EN\n",
       "AI Programmer                    EN\n",
       "AI Scientist                     EN\n",
       "Analytics Engineer               EN\n",
       "                                 ..\n",
       "Research Engineer                EN\n",
       "Research Scientist               EN\n",
       "Software Data Engineer           MI\n",
       "Staff Data Analyst               EX\n",
       "Staff Data Scientist             SE\n",
       "Name: experience_level, Length: 93, dtype: object"
      ]
     },
     "execution_count": 12,
     "metadata": {},
     "output_type": "execute_result"
    }
   ],
   "source": [
    "grouped_df = df.groupby('job_title')\n",
    "grouped_df['experience_level'].min()"
   ]
  },
  {
   "cell_type": "code",
   "execution_count": 13,
   "id": "b89f8100",
   "metadata": {},
   "outputs": [
    {
     "name": "stdout",
     "output_type": "stream",
     "text": [
      "job_title\n",
      "3D Computer Vision Researcher          []\n",
      "AI Developer                         [EN]\n",
      "AI Programmer                          []\n",
      "AI Scientist                         [SE]\n",
      "Analytics Engineer                   [SE]\n",
      "                                   ...   \n",
      "Research Engineer                    [SE]\n",
      "Research Scientist               [MI, SE]\n",
      "Software Data Engineer                 []\n",
      "Staff Data Analyst                     []\n",
      "Staff Data Scientist                   []\n",
      "Length: 93, dtype: object\n"
     ]
    },
    {
     "data": {
      "text/plain": [
       "job_title\n",
       "3D Computer Vision Researcher           []\n",
       "AI Developer                          [EN]\n",
       "AI Programmer                           []\n",
       "AI Scientist                          [SE]\n",
       "Analytics Engineer                    [SE]\n",
       "Applied Data Scientist                [SE]\n",
       "Applied Machine Learning Engineer       []\n",
       "Applied Machine Learning Scientist    [MI]\n",
       "Applied Scientist                     [SE]\n",
       "Autonomous Vehicle Technician           []\n",
       "Azure Data Engineer                     []\n",
       "BI Analyst                              []\n",
       "BI Data Analyst                       [EX]\n",
       "BI Data Engineer                        []\n",
       "BI Developer                          [SE]\n",
       "Big Data Architect                      []\n",
       "Big Data Engineer                     [SE]\n",
       "Business Data Analyst                 [MI]\n",
       "Business Intelligence Engineer          []\n",
       "Cloud Data Architect                    []\n",
       "dtype: object"
      ]
     },
     "execution_count": 13,
     "metadata": {},
     "output_type": "execute_result"
    }
   ],
   "source": [
    "# 직무별 연봉 상위 10%의 경력 수준 구하기\n",
    "\n",
    "# 직무별로 데이터를 그룹화\n",
    "grouped_df = df.groupby('job_title')\n",
    "\n",
    "# 그룹별로 상위 10%의 데이터를 선택하여 경력 수준 추출\n",
    "get_exp_level = lambda x: x.loc[x['salary_in_usd'].nlargest(int(len(x)*0.1)).index]['experience_level'].unique()\n",
    "salary_top_10_by_job = grouped_df.apply(get_exp_level)\n",
    "\n",
    "# 결과 출력\n",
    "print(salary_top_10_by_job)\n",
    "salary_top_10_by_job.head(20)"
   ]
  },
  {
   "attachments": {},
   "cell_type": "markdown",
   "id": "10cff504",
   "metadata": {},
   "source": [
    "* 질문 : experience_level이 직무 경력 수준인데 값들에 대해 상세 설명 부탁해.\n",
    "```\n",
    "Intern: 인턴 (해당 분야에서 경험이 거의 없는 경우)\n",
    "Entry level: 입문 수준 (해당 분야에서 1-3년 정도의 경력이 있는 경우)\n",
    "Junior: 주니어 수준 (해당 분야에서 3-5년 정도의 경력이 있는 경우)\n",
    "Mid-Senior level: 중간-시니어 수준 (해당 분야에서 5-10년 정도의 경력이 있는 경우)\n",
    "Senior: 시니어 수준 (해당 분야에서 10년 이상의 경력이 있는 경우)\n",
    "Director: 경영진 수준 (해당 분야에서 매우 높은 지위에 있는 경우)\n",
    "```"
   ]
  },
  {
   "cell_type": "code",
   "execution_count": 14,
   "id": "22e6c2db",
   "metadata": {},
   "outputs": [
    {
     "data": {
      "text/plain": [
       "array(['SE', 'MI', 'EN', 'EX'], dtype=object)"
      ]
     },
     "execution_count": 14,
     "metadata": {},
     "output_type": "execute_result"
    }
   ],
   "source": [
    "df['experience_level'].unique()"
   ]
  },
  {
   "attachments": {},
   "cell_type": "markdown",
   "id": "9ab541fe",
   "metadata": {},
   "source": [
    "```\n",
    "SE: Software Engineer - 기술적 역량을 갖춘 전문가 \n",
    "  * 3년 이상의 경력 보유한 주니어 개발자~10년 이상의 경력 보유한 시니어 엔지니어\n",
    "  \n",
    "MI: Manager or Individual Contributor\n",
    "  * 해당 분야에서 프로젝트나 인적자원 등의 관리를 담당하는 매니저나 개별적인 업무 수행을 담당하는 전문가, 또는 이 두 역할을 모두 겸하고 있는 직무를 의미\n",
    "  \n",
    "EN: Entry Level (입문 수준 해당 분야 1~3년 경력)\n",
    "  * 해당 분야에서 경력이 거의 없는 인턴 또는 입문 수준의 직무를 의미\n",
    "  \n",
    "EX: Executive Level \n",
    "  * 해당 분야에서 최고위 관리자 또는 경영진 수준의 역할을 수행하는 직무\n",
    "  * 전문가나 경영진을 대상으로 하며, 대체로 15년 이상의 경력을 보유한 사람들이 많이 해당\n",
    "```"
   ]
  },
  {
   "attachments": {},
   "cell_type": "markdown",
   "id": "93982316",
   "metadata": {},
   "source": [
    "## ChatGPT 질문 \n",
    "```\n",
    "AI Developer                          [EN] - 도대체 어떤 나라와 어떤 기업인가?\n",
    "AI Scientist                          [SE]\n",
    "Analytics Engineer                    [SE]\n",
    "Applied Data Scientist                [SE]\n",
    "Applied Machine Learning Scientist    [MI]\n",
    "Applied Scientist                     [SE]\n",
    "BI Data Analyst                       [EX]\n",
    "BI Developer                          [SE]\n",
    "Big Data Engineer                     [SE]\n",
    "Business Data Analyst                 [MI]\n",
    "==============\n",
    "이 친구들의 직무에 필요한 기술은 뭐가 있니?\n",
    "```"
   ]
  },
  {
   "attachments": {},
   "cell_type": "markdown",
   "id": "44f20841",
   "metadata": {},
   "source": [
    "```\n",
    "AI Developer: 인공지능 알고리즘 및 딥러닝 기술에 대한 지식과 프로그래밍 언어(예: Python, Java) 및 프레임워크(예: TensorFlow, PyTorch)에 대한 숙련도가 필요합니다. (Python, Tensorflow, Pytorch 등)\n",
    "\n",
    "AI Scientist: 기계 학습 및 딥러닝 알고리즘, 통계학 및 선형대수학 등의 수학적 이론 지식, 프로그래밍 언어 및 프레임워크에 대한 숙련도가 필요합니다.\n",
    "(알고리즘, 통계학, 선형대수, 프레임 워크 등)\n",
    "\n",
    "Analytics Engineer: 데이터 파이프라인 및 ETL(Extract-Transform-Load) 프로세스 개발, 데이터 웨어하우스 구축, 데이터 시각화 등에 대한 기술적 이해와 프로그래밍 언어(예: Python, SQL) 및 클라우드 서비스(예: AWS, GCP)에 대한 경험이 필요합니다.\n",
    "(데이터 파이프라인, 데이터 시각화 - SQL, AWS, GCP 등)\n",
    "\n",
    "Applied Data Scientist: 데이터 마이닝 및 머신러닝 알고리즘, 통계학, 데이터 분석 기술 등의 지식과 Python, R 등의 프로그래밍 언어, 머신러닝 프레임워크 등의 기술적 지식이 필요합니다.\n",
    "(Python, R, ML/DL 알고리즘, 통계학 등)\n",
    "\n",
    "Applied Machine Learning Scientist: 머신러닝 및 딥러닝 알고리즘 개발, 데이터 분석, 통계학, Python, R 등의 프로그래밍 언어 및 머신러닝 프레임워크(예: TensorFlow, PyTorch) 등의 기술적 지식이 필요합니다.\n",
    "(Python, R, ML/DL 알고리즘, 통계학 등)\n",
    "\n",
    "Applied Scientist: 머신러닝 및 딥러닝 알고리즘 개발, 통계학, 수학 등의 지식과 Python, R 등의 프로그래밍 언어, 머신러닝 프레임워크 등의 기술적 지식이 필요합니다.\n",
    "BI Data Analyst: 데이터 시각화, 데이터 분석 및 데이터 마이닝 기술, BI 도구(예: Tableau, Power BI) 및 SQL 등의 기술적 지식이 필요합니다.\n",
    "(Python, R, ML/DL 알고리즘, 통계학, Tableau, SQL 등)\n",
    "\n",
    "\n",
    "BI Developer: 데이터 웨어하우스 설계 및 개발, ETL 프로세스 개발, BI 도구 등에 대한 지식과 프로그래밍 언어(예: SQL, Python) 및 클라우드 서비스(예: AWS, Azure) 등의 기술적\n",
    "(데이터 웨어하우스 설계 및 개발(DB), SQL, Python, AWS, Azure 등)\n",
    "\n",
    "\n",
    "Big Data Engineer: 대용량 데이터 처리를 위한 분산 컴퓨팅 시스템 및 클러스터링 시스템(예: Hadoop, Spark)에 대한 이해와 이를 활용한 대용량 데이터 처리 경험이 필요합니다.\n",
    "(분산 컴퓨팅, Hadoop, Spark 등)\n",
    "\n",
    "\n",
    "Business Data Analyst: 비즈니스 전략 및 경영 이해, 데이터 분석 기술, 통계학, SQL 등의 지식과 BI 도구(예: Tableau, Power BI) 등의 기술적 지식이 필요\n",
    "(Tableau, Power BI, SQL, 데이터 분석 기술, 통계학 등)\n",
    "```"
   ]
  },
  {
   "attachments": {},
   "cell_type": "markdown",
   "id": "0294d2a0",
   "metadata": {},
   "source": [
    "```\n",
    "AI Scientist의 구체적인 업무는 뭐니?\n",
    "```\n",
    "\n",
    "```\n",
    "AI Scientist는 인공지능 분야에서 고급 수준의 연구와 개발 업무를 수행하는 직무입니다. 이는 대부분 기업이나 조직에서 인공지능을 활용하는 데 있어서 매우 중요한 역할\n",
    "\n",
    "업무 : 인공지능 알고리즘 개발, 머신러닝 모델 구현, 딥러닝 모델 구현, 데이터 분석 및 모델 평가, 인공지능 기술 연구, 인공지능 분야의 논문 작성\n",
    "```"
   ]
  },
  {
   "attachments": {},
   "cell_type": "markdown",
   "id": "a8ee0a02",
   "metadata": {},
   "source": [
    "```\n",
    "AI Developer의 업무는 무엇인가요?\n",
    "```\n",
    "\n",
    "```\n",
    "AI Developer는 인공지능(AI)을 개발하는 데에 전문적으로 참여하는 직무\n",
    "인공지능 알고리즘 개발, 딥러닝 모델 구현(Tensorflow, Pytorch 등), 데이터 전처리(pandas, numpy 등), 모델 평가, 모델 배포(AWS, Azure 등)\n",
    "```"
   ]
  },
  {
   "cell_type": "code",
   "execution_count": 15,
   "id": "bf732385",
   "metadata": {},
   "outputs": [
    {
     "name": "stdout",
     "output_type": "stream",
     "text": [
      "ML Engineer\n",
      "Research Engineer\n",
      "Analytics Engineer\n",
      "Business Intelligence Engineer\n",
      "Machine Learning Engineer\n",
      "Data Engineer\n",
      "Computer Vision Engineer\n",
      "Applied Machine Learning Engineer\n",
      "ETL Engineer\n",
      "Data DevOps Engineer\n",
      "Big Data Engineer\n",
      "BI Data Engineer\n",
      "MLOps Engineer\n",
      "Cloud Database Engineer\n",
      "Data Infrastructure Engineer\n",
      "Software Data Engineer\n",
      "Data Operations Engineer\n",
      "Machine Learning Infrastructure Engineer\n",
      "Deep Learning Engineer\n",
      "Machine Learning Software Engineer\n",
      "Computer Vision Software Engineer\n",
      "Azure Data Engineer\n",
      "Marketing Data Engineer\n",
      "Data Science Engineer\n",
      "Machine Learning Research Engineer\n",
      "NLP Engineer\n",
      "Principal Machine Learning Engineer\n",
      "Data Analytics Engineer\n",
      "Cloud Data Engineer\n",
      "Lead Machine Learning Engineer\n",
      "Lead Data Engineer\n",
      "Principal Data Engineer\n"
     ]
    }
   ],
   "source": [
    "for one in list(df['job_title'].unique()):\n",
    "    if 'Engineer' in one:\n",
    "        print(one)"
   ]
  },
  {
   "attachments": {},
   "cell_type": "markdown",
   "id": "b88ed1c3",
   "metadata": {},
   "source": [
    "```\n",
    "Software Data Engineer의 업무와 필요한 기술은 어떤 것이 있을까요?\n",
    "```\n",
    "\n",
    "```\n",
    "- 대규모 데이터를 처리하고 분석하는데 필요한 소프트웨어 시스템을 설계, 구현, 관리하는 업무를 수행\n",
    "- 대규모 데이터 처리 시스템 설계, 데이터 저장소 구축(DB), 데이터 처리 및 분석(Pandas 등), 데이터 파이프라인 구축: 데이터를 수집, 전처리, 분석, 저장 등의 단계로 구성된 데이터 파이프라인을 구축, 데이터 모델링(ML/DL 알고리즘)\n",
    "- Hadoop, Spark, NoSQL, DB(SQL), Python, Java, Scala (프로그래밍 능력), DB(SQL)\n",
    "- 기타 기술과 지식, 트렌드\n",
    "```"
   ]
  },
  {
   "cell_type": "code",
   "execution_count": 16,
   "id": "645cd198",
   "metadata": {},
   "outputs": [
    {
     "data": {
      "text/plain": [
       "array(['Principal Data Scientist', 'ML Engineer', 'Data Scientist',\n",
       "       'Applied Scientist', 'Data Analyst', 'Data Modeler',\n",
       "       'Research Engineer', 'Analytics Engineer',\n",
       "       'Business Intelligence Engineer', 'Machine Learning Engineer',\n",
       "       'Data Strategist', 'Data Engineer', 'Computer Vision Engineer',\n",
       "       'Data Quality Analyst', 'Compliance Data Analyst',\n",
       "       'Data Architect', 'Applied Machine Learning Engineer',\n",
       "       'AI Developer', 'Research Scientist', 'Data Analytics Manager',\n",
       "       'Business Data Analyst', 'Applied Data Scientist',\n",
       "       'Staff Data Analyst', 'ETL Engineer', 'Data DevOps Engineer',\n",
       "       'Head of Data', 'Data Science Manager', 'Data Manager',\n",
       "       'Machine Learning Researcher', 'Big Data Engineer',\n",
       "       'Data Specialist', 'Lead Data Analyst', 'BI Data Engineer',\n",
       "       'Director of Data Science', 'Machine Learning Scientist',\n",
       "       'MLOps Engineer', 'AI Scientist', 'Autonomous Vehicle Technician',\n",
       "       'Applied Machine Learning Scientist', 'Lead Data Scientist',\n",
       "       'Cloud Database Engineer', 'Financial Data Analyst',\n",
       "       'Data Infrastructure Engineer', 'Software Data Engineer',\n",
       "       'AI Programmer', 'Data Operations Engineer', 'BI Developer',\n",
       "       'Data Science Lead', 'Deep Learning Researcher', 'BI Analyst',\n",
       "       'Data Science Consultant', 'Data Analytics Specialist',\n",
       "       'Machine Learning Infrastructure Engineer', 'BI Data Analyst',\n",
       "       'Head of Data Science', 'Insight Analyst',\n",
       "       'Deep Learning Engineer', 'Machine Learning Software Engineer',\n",
       "       'Big Data Architect', 'Product Data Analyst',\n",
       "       'Computer Vision Software Engineer', 'Azure Data Engineer',\n",
       "       'Marketing Data Engineer', 'Data Analytics Lead', 'Data Lead',\n",
       "       'Data Science Engineer', 'Machine Learning Research Engineer',\n",
       "       'NLP Engineer', 'Manager Data Management',\n",
       "       'Machine Learning Developer', '3D Computer Vision Researcher',\n",
       "       'Principal Machine Learning Engineer', 'Data Analytics Engineer',\n",
       "       'Data Analytics Consultant', 'Data Management Specialist',\n",
       "       'Data Science Tech Lead', 'Data Scientist Lead',\n",
       "       'Cloud Data Engineer', 'Data Operations Analyst',\n",
       "       'Marketing Data Analyst', 'Power BI Developer',\n",
       "       'Product Data Scientist', 'Principal Data Architect',\n",
       "       'Machine Learning Manager', 'Lead Machine Learning Engineer',\n",
       "       'ETL Developer', 'Cloud Data Architect', 'Lead Data Engineer',\n",
       "       'Head of Machine Learning', 'Principal Data Analyst',\n",
       "       'Principal Data Engineer', 'Staff Data Scientist',\n",
       "       'Finance Data Analyst'], dtype=object)"
      ]
     },
     "execution_count": 16,
     "metadata": {},
     "output_type": "execute_result"
    }
   ],
   "source": [
    "df['job_title'].unique()"
   ]
  },
  {
   "cell_type": "code",
   "execution_count": 17,
   "id": "3dd38ae7",
   "metadata": {},
   "outputs": [
    {
     "name": "stdout",
     "output_type": "stream",
     "text": [
      "Principal Data Scientist\n",
      "Data Scientist\n",
      "Data Analyst\n",
      "Data Analyst\n",
      "Data Modeler\n",
      "Data Strategist\n",
      "Data Engineer\n",
      "Data Quality Analyst\n",
      "Data Quality Analyst\n",
      "Compliance Data Analyst\n",
      "Compliance Data Analyst\n",
      "Data Architect\n",
      "Data Analytics Manager\n",
      "Business Data Analyst\n",
      "Business Data Analyst\n",
      "Applied Data Scientist\n",
      "Staff Data Analyst\n",
      "Staff Data Analyst\n",
      "Data DevOps Engineer\n",
      "Head of Data\n",
      "Data Science Manager\n",
      "Data Manager\n",
      "Big Data Engineer\n",
      "Data Specialist\n",
      "Lead Data Analyst\n",
      "Lead Data Analyst\n",
      "BI Data Engineer\n",
      "Director of Data Science\n",
      "Lead Data Scientist\n",
      "Cloud Database Engineer\n",
      "Financial Data Analyst\n",
      "Financial Data Analyst\n",
      "Data Infrastructure Engineer\n",
      "Software Data Engineer\n",
      "Data Operations Engineer\n",
      "Data Science Lead\n",
      "BI Analyst\n",
      "Data Science Consultant\n",
      "Data Analytics Specialist\n",
      "BI Data Analyst\n",
      "BI Data Analyst\n",
      "Head of Data Science\n",
      "Insight Analyst\n",
      "Big Data Architect\n",
      "Product Data Analyst\n",
      "Product Data Analyst\n",
      "Azure Data Engineer\n",
      "Marketing Data Engineer\n",
      "Marketing Data Engineer\n",
      "Data Analytics Lead\n",
      "Data Lead\n",
      "Data Science Engineer\n",
      "Manager Data Management\n",
      "Data Analytics Engineer\n",
      "Data Analytics Consultant\n",
      "Data Management Specialist\n",
      "Data Science Tech Lead\n",
      "Data Scientist Lead\n",
      "Cloud Data Engineer\n",
      "Data Operations Analyst\n",
      "Data Operations Analyst\n",
      "Marketing Data Analyst\n",
      "Marketing Data Analyst\n",
      "Marketing Data Analyst\n",
      "Product Data Scientist\n",
      "Principal Data Architect\n",
      "Cloud Data Architect\n",
      "Lead Data Engineer\n",
      "Principal Data Analyst\n",
      "Principal Data Analyst\n",
      "Principal Data Engineer\n",
      "Staff Data Scientist\n",
      "Finance Data Analyst\n",
      "Finance Data Analyst\n"
     ]
    }
   ],
   "source": [
    "for one in list(df['job_title'].unique()):\n",
    "    if 'Data' in one:\n",
    "        print(one)\n",
    "    if 'Marketing' in one:\n",
    "        print(one)\n",
    "    if 'Analyst' in one:\n",
    "        print(one)"
   ]
  },
  {
   "attachments": {},
   "cell_type": "markdown",
   "id": "abc72d0a",
   "metadata": {},
   "source": [
    "```\n",
    "Product Data Analyst의 업무와 필요 기술 알려주렴.\n",
    "```\n",
    "\n",
    "```\n",
    "Product Data Analyst는 제품 또는 서비스의 성능 및 사용자 경험 개선을 위해 데이터를 수집, 분석하고, 보고서를 작성하여 의사 결정을 지원하는 업무를 수행하는 직무\n",
    "\n",
    "데이터 분석: 제품 또는 서비스 사용자의 행동 및 경험을 분석하여 문제를 파악하고 개선 방안을 모색합니다.\n",
    "보고서 작성: 데이터 분석 결과를 바탕으로 보고서를 작성하고, 의사 결정을 지원합니다.\n",
    "A/B 테스트\n",
    "데이터 시각화(예: Tableau, PowerBI 등)\n",
    "데이터 모델링\n",
    "\n",
    "필요 기술 (SQL, Python, 머신러닝, 데이터 시각화, 데이터 분석 기술)\n",
    "```"
   ]
  },
  {
   "attachments": {},
   "cell_type": "markdown",
   "id": "5a5d283e",
   "metadata": {},
   "source": [
    "```\n",
    "Business Data Analyst의 업무와 필요 기술\n",
    "```\n",
    "\n",
    "```\n",
    "Business Data Analyst는 기업의 비즈니스 성과를 분석하여 의사 결정에 활용하는 업무\n",
    "\n",
    "데이터 수집 및 전처리(Python, R, SQL 등)\n",
    "데이터 분석: 수집한 데이터를 분석하여 기업의 비즈니스 성과를 평가하고, 문제점을 파악합니다.\n",
    "보고서 작성: 데이터 분석 결과를 바탕으로 보고서를 작성하고, 의사 결정을 지원\n",
    "데이터 시각화: 데이터를 시각화하여 효과적으로 분석 및 보고서 작성에 활용(Tableau, PowerBI 등)\n",
    "데이터 모델링: 데이터 모델링 기술을 활용하여 데이터 분석\n",
    "    \n",
    "비즈니스 지식: 기업의 비즈니스 모델, 시장 트렌드, 경쟁사 분석 등에 대한 지식\n",
    "```"
   ]
  },
  {
   "attachments": {},
   "cell_type": "markdown",
   "id": "5dedab35",
   "metadata": {},
   "source": [
    "### 해당 근무 연도와 거주 국가를 활용한 미국 달러로 표시된 급여(work_year, company_location, salary_in_usd)"
   ]
  },
  {
   "cell_type": "code",
   "execution_count": 18,
   "id": "f041c218",
   "metadata": {},
   "outputs": [
    {
     "data": {
      "text/html": [
       "<div>\n",
       "<style scoped>\n",
       "    .dataframe tbody tr th:only-of-type {\n",
       "        vertical-align: middle;\n",
       "    }\n",
       "\n",
       "    .dataframe tbody tr th {\n",
       "        vertical-align: top;\n",
       "    }\n",
       "\n",
       "    .dataframe thead th {\n",
       "        text-align: right;\n",
       "    }\n",
       "</style>\n",
       "<table border=\"1\" class=\"dataframe\">\n",
       "  <thead>\n",
       "    <tr style=\"text-align: right;\">\n",
       "      <th></th>\n",
       "      <th>work_year</th>\n",
       "      <th>company_location</th>\n",
       "      <th>salary_in_usd</th>\n",
       "    </tr>\n",
       "  </thead>\n",
       "  <tbody>\n",
       "    <tr>\n",
       "      <th>0</th>\n",
       "      <td>2023</td>\n",
       "      <td>ES</td>\n",
       "      <td>85847</td>\n",
       "    </tr>\n",
       "    <tr>\n",
       "      <th>1</th>\n",
       "      <td>2023</td>\n",
       "      <td>US</td>\n",
       "      <td>30000</td>\n",
       "    </tr>\n",
       "    <tr>\n",
       "      <th>2</th>\n",
       "      <td>2023</td>\n",
       "      <td>US</td>\n",
       "      <td>25500</td>\n",
       "    </tr>\n",
       "    <tr>\n",
       "      <th>3</th>\n",
       "      <td>2023</td>\n",
       "      <td>CA</td>\n",
       "      <td>175000</td>\n",
       "    </tr>\n",
       "    <tr>\n",
       "      <th>4</th>\n",
       "      <td>2023</td>\n",
       "      <td>CA</td>\n",
       "      <td>120000</td>\n",
       "    </tr>\n",
       "    <tr>\n",
       "      <th>...</th>\n",
       "      <td>...</td>\n",
       "      <td>...</td>\n",
       "      <td>...</td>\n",
       "    </tr>\n",
       "    <tr>\n",
       "      <th>3750</th>\n",
       "      <td>2020</td>\n",
       "      <td>US</td>\n",
       "      <td>412000</td>\n",
       "    </tr>\n",
       "    <tr>\n",
       "      <th>3751</th>\n",
       "      <td>2021</td>\n",
       "      <td>US</td>\n",
       "      <td>151000</td>\n",
       "    </tr>\n",
       "    <tr>\n",
       "      <th>3752</th>\n",
       "      <td>2020</td>\n",
       "      <td>US</td>\n",
       "      <td>105000</td>\n",
       "    </tr>\n",
       "    <tr>\n",
       "      <th>3753</th>\n",
       "      <td>2020</td>\n",
       "      <td>US</td>\n",
       "      <td>100000</td>\n",
       "    </tr>\n",
       "    <tr>\n",
       "      <th>3754</th>\n",
       "      <td>2021</td>\n",
       "      <td>IN</td>\n",
       "      <td>94665</td>\n",
       "    </tr>\n",
       "  </tbody>\n",
       "</table>\n",
       "<p>3755 rows × 3 columns</p>\n",
       "</div>"
      ],
      "text/plain": [
       "      work_year company_location  salary_in_usd\n",
       "0          2023               ES          85847\n",
       "1          2023               US          30000\n",
       "2          2023               US          25500\n",
       "3          2023               CA         175000\n",
       "4          2023               CA         120000\n",
       "...         ...              ...            ...\n",
       "3750       2020               US         412000\n",
       "3751       2021               US         151000\n",
       "3752       2020               US         105000\n",
       "3753       2020               US         100000\n",
       "3754       2021               IN          94665\n",
       "\n",
       "[3755 rows x 3 columns]"
      ]
     },
     "execution_count": 18,
     "metadata": {},
     "output_type": "execute_result"
    }
   ],
   "source": [
    "new_df = df[['work_year', 'company_location', 'salary_in_usd']].copy()\n",
    "new_df"
   ]
  },
  {
   "attachments": {},
   "cell_type": "markdown",
   "id": "2812aeba",
   "metadata": {},
   "source": [
    "### 지역별 연간 평균 급여 계산"
   ]
  },
  {
   "cell_type": "code",
   "execution_count": 19,
   "id": "74fb33a1",
   "metadata": {},
   "outputs": [
    {
     "data": {
      "text/html": [
       "<div>\n",
       "<style scoped>\n",
       "    .dataframe tbody tr th:only-of-type {\n",
       "        vertical-align: middle;\n",
       "    }\n",
       "\n",
       "    .dataframe tbody tr th {\n",
       "        vertical-align: top;\n",
       "    }\n",
       "\n",
       "    .dataframe thead th {\n",
       "        text-align: right;\n",
       "    }\n",
       "</style>\n",
       "<table border=\"1\" class=\"dataframe\">\n",
       "  <thead>\n",
       "    <tr style=\"text-align: right;\">\n",
       "      <th></th>\n",
       "      <th>company_location</th>\n",
       "      <th>salary_in_usd</th>\n",
       "    </tr>\n",
       "  </thead>\n",
       "  <tbody>\n",
       "    <tr>\n",
       "      <th>0</th>\n",
       "      <td>AE</td>\n",
       "      <td>100000.000000</td>\n",
       "    </tr>\n",
       "    <tr>\n",
       "      <th>1</th>\n",
       "      <td>AL</td>\n",
       "      <td>10000.000000</td>\n",
       "    </tr>\n",
       "    <tr>\n",
       "      <th>2</th>\n",
       "      <td>AM</td>\n",
       "      <td>50000.000000</td>\n",
       "    </tr>\n",
       "    <tr>\n",
       "      <th>3</th>\n",
       "      <td>AR</td>\n",
       "      <td>25000.000000</td>\n",
       "    </tr>\n",
       "    <tr>\n",
       "      <th>4</th>\n",
       "      <td>AS</td>\n",
       "      <td>29351.000000</td>\n",
       "    </tr>\n",
       "    <tr>\n",
       "      <th>...</th>\n",
       "      <td>...</td>\n",
       "      <td>...</td>\n",
       "    </tr>\n",
       "    <tr>\n",
       "      <th>67</th>\n",
       "      <td>TH</td>\n",
       "      <td>23064.333333</td>\n",
       "    </tr>\n",
       "    <tr>\n",
       "      <th>68</th>\n",
       "      <td>TR</td>\n",
       "      <td>19058.000000</td>\n",
       "    </tr>\n",
       "    <tr>\n",
       "      <th>69</th>\n",
       "      <td>UA</td>\n",
       "      <td>57850.000000</td>\n",
       "    </tr>\n",
       "    <tr>\n",
       "      <th>70</th>\n",
       "      <td>US</td>\n",
       "      <td>151822.009539</td>\n",
       "    </tr>\n",
       "    <tr>\n",
       "      <th>71</th>\n",
       "      <td>VN</td>\n",
       "      <td>12000.000000</td>\n",
       "    </tr>\n",
       "  </tbody>\n",
       "</table>\n",
       "<p>72 rows × 2 columns</p>\n",
       "</div>"
      ],
      "text/plain": [
       "   company_location  salary_in_usd\n",
       "0                AE  100000.000000\n",
       "1                AL   10000.000000\n",
       "2                AM   50000.000000\n",
       "3                AR   25000.000000\n",
       "4                AS   29351.000000\n",
       "..              ...            ...\n",
       "67               TH   23064.333333\n",
       "68               TR   19058.000000\n",
       "69               UA   57850.000000\n",
       "70               US  151822.009539\n",
       "71               VN   12000.000000\n",
       "\n",
       "[72 rows x 2 columns]"
      ]
     },
     "execution_count": 19,
     "metadata": {},
     "output_type": "execute_result"
    }
   ],
   "source": [
    "avg_salary_by_location = new_df.groupby('company_location')['salary_in_usd'].mean().reset_index()\n",
    "avg_salary_by_location"
   ]
  },
  {
   "cell_type": "code",
   "execution_count": 20,
   "id": "b4de7d97",
   "metadata": {},
   "outputs": [
    {
     "name": "stdout",
     "output_type": "stream",
     "text": [
      "72\n"
     ]
    },
    {
     "data": {
      "text/plain": [
       "array(['AE', 'AL', 'AM', 'AR', 'AS', 'AT', 'AU', 'BA', 'BE', 'BO', 'BR',\n",
       "       'BS', 'CA', 'CF', 'CH', 'CL', 'CN', 'CO', 'CR', 'CZ', 'DE', 'DK',\n",
       "       'DZ', 'EE', 'EG', 'ES', 'FI', 'FR', 'GB', 'GH', 'GR', 'HK', 'HN',\n",
       "       'HR', 'HU', 'ID', 'IE', 'IL', 'IN', 'IQ', 'IR', 'IT', 'JP', 'KE',\n",
       "       'LT', 'LU', 'LV', 'MA', 'MD', 'MK', 'MT', 'MX', 'MY', 'NG', 'NL',\n",
       "       'NZ', 'PH', 'PK', 'PL', 'PR', 'PT', 'RO', 'RU', 'SE', 'SG', 'SI',\n",
       "       'SK', 'TH', 'TR', 'UA', 'US', 'VN'], dtype=object)"
      ]
     },
     "execution_count": 20,
     "metadata": {},
     "output_type": "execute_result"
    }
   ],
   "source": [
    "print( len(avg_salary_by_location['company_location'].unique()) )\n",
    "avg_salary_by_location['company_location'].unique()"
   ]
  },
  {
   "attachments": {},
   "cell_type": "markdown",
   "id": "e05af886",
   "metadata": {},
   "source": [
    "```\n",
    "AE: United Arab Emirates (아랍에미리트 연합)\n",
    "AL: Albania (알바니아)\n",
    "AM: Armenia (아르메니아)\n",
    "AR: Argentina (아르헨티나)\n",
    "AS: American Samoa (아메리칸 사모아)\n",
    "AT: Austria (오스트리아)\n",
    "AU: Australia (호주)\n",
    "BA: Bosnia and Herzegovina (보스니아 헤르체고비나)\n",
    "BE: Belgium (벨기에)\n",
    "BO: Bolivia (볼리비아)\n",
    "BR: Brazil (브라질)\n",
    "BS: Bahamas (바하마)\n",
    "CA: Canada (캐나다)\n",
    "CF: Central African Republic (중앙 아프리카 공화국)\n",
    "CH: Switzerland (스위스)\n",
    "CL: Chile (칠레)\n",
    "CN: China (중국)\n",
    "CO: Colombia (콜롬비아)\n",
    "CR: Costa Rica (코스타리카)\n",
    "CZ: Czech Republic (체코)\n",
    "DE: Germany (독일)\n",
    "DK: Denmark (덴마크)\n",
    "DZ: Algeria (알제리)\n",
    "EE: Estonia (에스토니아)\n",
    "EG: Egypt (이집트)\n",
    "ES: Spain (스페인)\n",
    "FI: Finland (핀란드)\n",
    "FR: France (프랑스)\n",
    "GB: United Kingdom (영국)\n",
    "GH: Ghana (가나)\n",
    "GR: Greece (그리스)\n",
    "HK: Hong Kong (홍콩)\n",
    "HN: Honduras (온두라스)\n",
    "HR: Croatia (크로아티아)\n",
    "HU: Hungary (헝가리)\n",
    "ID: Indonesia (인도네시아)\n",
    "IE: Ireland (아일랜드)\n",
    "IL: Israel (이스라엘)\n",
    "IN: India (인도)\n",
    "IQ: Iraq (이라크)\n",
    "IR: Iran (이란)\n",
    "IT: Italy (이탈리아)\n",
    "JP: Japan (일본)\n",
    "KE: Kenya (케냐)\n",
    "LT: Lithuania (리투아니아)\n",
    "LU: Luxembourg (룩셈부르크)\n",
    "LV: Latvia (라트비아)\n",
    "MA: Morocco (모로코)\n",
    "MD: Moldova (몰도바)\n",
    "MK: North Macedonia (북마케도니아)\n",
    "MT: Malta (몰타)\n",
    "MX: Mexico (멕시코)\n",
    "MY: Malaysia (말레이시아)\n",
    "NG: Nigeria (나이지리아)\n",
    "NL: Netherlands (네덜란드)\n",
    "NZ: New Zealand (뉴질랜드)\n",
    "PH: Philippines (필리핀)\n",
    "PK: Pakistan (파키스탄)\n",
    "PL: Poland (폴란드)\n",
    "PR: Puerto Rico (푸에르토리코)\n",
    "PT: Portugal (포르투갈)\n",
    "RO: Romania(루마니아)\n",
    "RU: Russia (러시아)\n",
    "SE: Sweden (스웨덴)\n",
    "SG: Singapore (싱가포르)\n",
    "SI: Slovenia (슬로베니아)\n",
    "SK: Slovakia (슬로바키아)\n",
    "TH: Thailand (태국)\n",
    "TR: Turkey (터키)\n",
    "UA: Ukraine (우크라이나)\n",
    "US: United States (미국)\n",
    "VN: Vietnam (베트남)\n",
    "```"
   ]
  },
  {
   "attachments": {},
   "cell_type": "markdown",
   "id": "280aaaf5",
   "metadata": {},
   "source": [
    "* 72개국에 분포된 데이터 관련 직업군."
   ]
  },
  {
   "attachments": {},
   "cell_type": "markdown",
   "id": "b01fcd37",
   "metadata": {},
   "source": [
    "### work_year별로 salary_in_usd 분포 시각화"
   ]
  },
  {
   "cell_type": "code",
   "execution_count": 21,
   "id": "f081e657",
   "metadata": {},
   "outputs": [
    {
     "data": {
      "image/png": "[encoded data removed]",
      "text/plain": [
       "<Figure size 640x480 with 1 Axes>"
      ]
     },
     "metadata": {},
     "output_type": "display_data"
    }
   ],
   "source": [
    "sns.histplot(data=new_df, \n",
    "             x='salary_in_usd', \n",
    "             hue='work_year', \n",
    "             multiple='stack', bins=20)\n",
    "\n",
    "plt.show()"
   ]
  },
  {
   "attachments": {},
   "cell_type": "markdown",
   "id": "07593b09",
   "metadata": {},
   "source": [
    "* 연봉이 10만 달러~ 20만 달러가 많다."
   ]
  },
  {
   "attachments": {},
   "cell_type": "markdown",
   "id": "08152a84",
   "metadata": {},
   "source": [
    "### company_location별로 급여(salary_in_usd)분포 시각화"
   ]
  },
  {
   "cell_type": "code",
   "execution_count": 22,
   "id": "96a86970",
   "metadata": {},
   "outputs": [
    {
     "data": {
      "image/png": "[encoded data removed]",
      "text/plain": [
       "<Figure size 2000x1000 with 1 Axes>"
      ]
     },
     "metadata": {},
     "output_type": "display_data"
    }
   ],
   "source": [
    "plt.figure(figsize=(20,10))\n",
    "sns.boxplot(data=new_df, x='company_location', y='salary_in_usd')\n",
    "plt.xticks(rotation=45, ha='right')\n",
    "plt.show()"
   ]
  },
  {
   "attachments": {},
   "cell_type": "markdown",
   "id": "6fd41a16",
   "metadata": {},
   "source": [
    "* IL: Israel (이스라엘)이 연봉 평균이 높다."
   ]
  },
  {
   "cell_type": "code",
   "execution_count": 23,
   "id": "d038ba01",
   "metadata": {},
   "outputs": [
    {
     "data": {
      "image/png": "[encoded data removed]",
      "text/plain": [
       "<Figure size 2000x1000 with 1 Axes>"
      ]
     },
     "metadata": {},
     "output_type": "display_data"
    }
   ],
   "source": [
    "plt.figure(figsize=(20,10))\n",
    "sns.boxplot(data=new_df, x='company_location', \n",
    "            hue=\"work_year\", y='salary_in_usd')\n",
    "plt.xticks(rotation=45, ha='right')\n",
    "plt.show()"
   ]
  },
  {
   "cell_type": "code",
   "execution_count": 54,
   "id": "a59ae091",
   "metadata": {},
   "outputs": [
    {
     "data": {
      "text/html": [
       "<div>\n",
       "<style scoped>\n",
       "    .dataframe tbody tr th:only-of-type {\n",
       "        vertical-align: middle;\n",
       "    }\n",
       "\n",
       "    .dataframe tbody tr th {\n",
       "        vertical-align: top;\n",
       "    }\n",
       "\n",
       "    .dataframe thead th {\n",
       "        text-align: right;\n",
       "    }\n",
       "</style>\n",
       "<table border=\"1\" class=\"dataframe\">\n",
       "  <thead>\n",
       "    <tr style=\"text-align: right;\">\n",
       "      <th></th>\n",
       "      <th>company_location</th>\n",
       "      <th>salary_in_usd</th>\n",
       "    </tr>\n",
       "  </thead>\n",
       "  <tbody>\n",
       "    <tr>\n",
       "      <th>0</th>\n",
       "      <td>AE</td>\n",
       "      <td>100000.000000</td>\n",
       "    </tr>\n",
       "    <tr>\n",
       "      <th>1</th>\n",
       "      <td>AL</td>\n",
       "      <td>10000.000000</td>\n",
       "    </tr>\n",
       "    <tr>\n",
       "      <th>2</th>\n",
       "      <td>AM</td>\n",
       "      <td>50000.000000</td>\n",
       "    </tr>\n",
       "    <tr>\n",
       "      <th>3</th>\n",
       "      <td>AR</td>\n",
       "      <td>25000.000000</td>\n",
       "    </tr>\n",
       "    <tr>\n",
       "      <th>4</th>\n",
       "      <td>AS</td>\n",
       "      <td>29351.000000</td>\n",
       "    </tr>\n",
       "    <tr>\n",
       "      <th>...</th>\n",
       "      <td>...</td>\n",
       "      <td>...</td>\n",
       "    </tr>\n",
       "    <tr>\n",
       "      <th>67</th>\n",
       "      <td>TH</td>\n",
       "      <td>23064.333333</td>\n",
       "    </tr>\n",
       "    <tr>\n",
       "      <th>68</th>\n",
       "      <td>TR</td>\n",
       "      <td>19058.000000</td>\n",
       "    </tr>\n",
       "    <tr>\n",
       "      <th>69</th>\n",
       "      <td>UA</td>\n",
       "      <td>57850.000000</td>\n",
       "    </tr>\n",
       "    <tr>\n",
       "      <th>70</th>\n",
       "      <td>US</td>\n",
       "      <td>151822.009539</td>\n",
       "    </tr>\n",
       "    <tr>\n",
       "      <th>71</th>\n",
       "      <td>VN</td>\n",
       "      <td>12000.000000</td>\n",
       "    </tr>\n",
       "  </tbody>\n",
       "</table>\n",
       "<p>72 rows × 2 columns</p>\n",
       "</div>"
      ],
      "text/plain": [
       "   company_location  salary_in_usd\n",
       "0                AE  100000.000000\n",
       "1                AL   10000.000000\n",
       "2                AM   50000.000000\n",
       "3                AR   25000.000000\n",
       "4                AS   29351.000000\n",
       "..              ...            ...\n",
       "67               TH   23064.333333\n",
       "68               TR   19058.000000\n",
       "69               UA   57850.000000\n",
       "70               US  151822.009539\n",
       "71               VN   12000.000000\n",
       "\n",
       "[72 rows x 2 columns]"
      ]
     },
     "execution_count": 54,
     "metadata": {},
     "output_type": "execute_result"
    }
   ],
   "source": [
    "avg_salary_by_location"
   ]
  },
  {
   "cell_type": "code",
   "execution_count": 24,
   "id": "8ca306d8",
   "metadata": {},
   "outputs": [],
   "source": [
    "# sort_values()를 이용한 데이터 정렬\n",
    "avg_salary_by_location.sort_values('salary_in_usd', \n",
    "                                   ascending=False, \n",
    "                                   inplace=True)"
   ]
  },
  {
   "cell_type": "code",
   "execution_count": 25,
   "id": "938bfe93",
   "metadata": {},
   "outputs": [
    {
     "data": {
      "text/html": [
       "<div>\n",
       "<style scoped>\n",
       "    .dataframe tbody tr th:only-of-type {\n",
       "        vertical-align: middle;\n",
       "    }\n",
       "\n",
       "    .dataframe tbody tr th {\n",
       "        vertical-align: top;\n",
       "    }\n",
       "\n",
       "    .dataframe thead th {\n",
       "        text-align: right;\n",
       "    }\n",
       "</style>\n",
       "<table border=\"1\" class=\"dataframe\">\n",
       "  <thead>\n",
       "    <tr style=\"text-align: right;\">\n",
       "      <th></th>\n",
       "      <th>company_location</th>\n",
       "      <th>salary_in_usd</th>\n",
       "    </tr>\n",
       "  </thead>\n",
       "  <tbody>\n",
       "    <tr>\n",
       "      <th>37</th>\n",
       "      <td>IL</td>\n",
       "      <td>271446.500000</td>\n",
       "    </tr>\n",
       "    <tr>\n",
       "      <th>59</th>\n",
       "      <td>PR</td>\n",
       "      <td>167500.000000</td>\n",
       "    </tr>\n",
       "    <tr>\n",
       "      <th>70</th>\n",
       "      <td>US</td>\n",
       "      <td>151822.009539</td>\n",
       "    </tr>\n",
       "    <tr>\n",
       "      <th>62</th>\n",
       "      <td>RU</td>\n",
       "      <td>140333.333333</td>\n",
       "    </tr>\n",
       "    <tr>\n",
       "      <th>12</th>\n",
       "      <td>CA</td>\n",
       "      <td>131917.689655</td>\n",
       "    </tr>\n",
       "    <tr>\n",
       "      <th>...</th>\n",
       "      <td>...</td>\n",
       "      <td>...</td>\n",
       "    </tr>\n",
       "    <tr>\n",
       "      <th>71</th>\n",
       "      <td>VN</td>\n",
       "      <td>12000.000000</td>\n",
       "    </tr>\n",
       "    <tr>\n",
       "      <th>1</th>\n",
       "      <td>AL</td>\n",
       "      <td>10000.000000</td>\n",
       "    </tr>\n",
       "    <tr>\n",
       "      <th>47</th>\n",
       "      <td>MA</td>\n",
       "      <td>10000.000000</td>\n",
       "    </tr>\n",
       "    <tr>\n",
       "      <th>9</th>\n",
       "      <td>BO</td>\n",
       "      <td>7500.000000</td>\n",
       "    </tr>\n",
       "    <tr>\n",
       "      <th>49</th>\n",
       "      <td>MK</td>\n",
       "      <td>6304.000000</td>\n",
       "    </tr>\n",
       "  </tbody>\n",
       "</table>\n",
       "<p>72 rows × 2 columns</p>\n",
       "</div>"
      ],
      "text/plain": [
       "   company_location  salary_in_usd\n",
       "37               IL  271446.500000\n",
       "59               PR  167500.000000\n",
       "70               US  151822.009539\n",
       "62               RU  140333.333333\n",
       "12               CA  131917.689655\n",
       "..              ...            ...\n",
       "71               VN   12000.000000\n",
       "1                AL   10000.000000\n",
       "47               MA   10000.000000\n",
       "9                BO    7500.000000\n",
       "49               MK    6304.000000\n",
       "\n",
       "[72 rows x 2 columns]"
      ]
     },
     "execution_count": 25,
     "metadata": {},
     "output_type": "execute_result"
    }
   ],
   "source": [
    "avg_salary_by_location"
   ]
  },
  {
   "attachments": {},
   "cell_type": "markdown",
   "id": "ab24c336",
   "metadata": {},
   "source": [
    "* 상위 10개를 가져와서다시 시각화를 해보자."
   ]
  },
  {
   "cell_type": "code",
   "execution_count": 26,
   "id": "b832316d",
   "metadata": {},
   "outputs": [
    {
     "data": {
      "text/plain": [
       "((10, 2),\n",
       "    company_location  salary_in_usd\n",
       " 37               IL  271446.500000\n",
       " 59               PR  167500.000000\n",
       " 70               US  151822.009539\n",
       " 62               RU  140333.333333\n",
       " 12               CA  131917.689655\n",
       " 55               NZ  125000.000000\n",
       " 7                BA  120000.000000\n",
       " 36               IE  114943.428571\n",
       " 42               JP  114127.333333\n",
       " 63               SE  105000.000000)"
      ]
     },
     "execution_count": 26,
     "metadata": {},
     "output_type": "execute_result"
    }
   ],
   "source": [
    "avg_salary_by_location10 = avg_salary_by_location.iloc[ 0:10 , :]\n",
    "avg_salary_by_location10.shape, avg_salary_by_location10"
   ]
  },
  {
   "cell_type": "code",
   "execution_count": 28,
   "id": "e7243641",
   "metadata": {},
   "outputs": [
    {
     "data": {
      "text/html": [
       "<div>\n",
       "<style scoped>\n",
       "    .dataframe tbody tr th:only-of-type {\n",
       "        vertical-align: middle;\n",
       "    }\n",
       "\n",
       "    .dataframe tbody tr th {\n",
       "        vertical-align: top;\n",
       "    }\n",
       "\n",
       "    .dataframe thead th {\n",
       "        text-align: right;\n",
       "    }\n",
       "</style>\n",
       "<table border=\"1\" class=\"dataframe\">\n",
       "  <thead>\n",
       "    <tr style=\"text-align: right;\">\n",
       "      <th></th>\n",
       "      <th>company_location</th>\n",
       "      <th>salary_in_usd</th>\n",
       "    </tr>\n",
       "  </thead>\n",
       "  <tbody>\n",
       "    <tr>\n",
       "      <th>37</th>\n",
       "      <td>IL</td>\n",
       "      <td>271446.500000</td>\n",
       "    </tr>\n",
       "    <tr>\n",
       "      <th>59</th>\n",
       "      <td>PR</td>\n",
       "      <td>167500.000000</td>\n",
       "    </tr>\n",
       "    <tr>\n",
       "      <th>70</th>\n",
       "      <td>US</td>\n",
       "      <td>151822.009539</td>\n",
       "    </tr>\n",
       "    <tr>\n",
       "      <th>62</th>\n",
       "      <td>RU</td>\n",
       "      <td>140333.333333</td>\n",
       "    </tr>\n",
       "    <tr>\n",
       "      <th>12</th>\n",
       "      <td>CA</td>\n",
       "      <td>131917.689655</td>\n",
       "    </tr>\n",
       "    <tr>\n",
       "      <th>55</th>\n",
       "      <td>NZ</td>\n",
       "      <td>125000.000000</td>\n",
       "    </tr>\n",
       "    <tr>\n",
       "      <th>7</th>\n",
       "      <td>BA</td>\n",
       "      <td>120000.000000</td>\n",
       "    </tr>\n",
       "    <tr>\n",
       "      <th>36</th>\n",
       "      <td>IE</td>\n",
       "      <td>114943.428571</td>\n",
       "    </tr>\n",
       "    <tr>\n",
       "      <th>42</th>\n",
       "      <td>JP</td>\n",
       "      <td>114127.333333</td>\n",
       "    </tr>\n",
       "    <tr>\n",
       "      <th>63</th>\n",
       "      <td>SE</td>\n",
       "      <td>105000.000000</td>\n",
       "    </tr>\n",
       "  </tbody>\n",
       "</table>\n",
       "</div>"
      ],
      "text/plain": [
       "   company_location  salary_in_usd\n",
       "37               IL  271446.500000\n",
       "59               PR  167500.000000\n",
       "70               US  151822.009539\n",
       "62               RU  140333.333333\n",
       "12               CA  131917.689655\n",
       "55               NZ  125000.000000\n",
       "7                BA  120000.000000\n",
       "36               IE  114943.428571\n",
       "42               JP  114127.333333\n",
       "63               SE  105000.000000"
      ]
     },
     "execution_count": 28,
     "metadata": {},
     "output_type": "execute_result"
    }
   ],
   "source": [
    "avg_salary_by_location10"
   ]
  },
  {
   "cell_type": "code",
   "execution_count": 27,
   "id": "c730517b",
   "metadata": {},
   "outputs": [
    {
     "data": {
      "image/png": "[encoded data removed]",
      "text/plain": [
       "<Figure size 2000x1000 with 1 Axes>"
      ]
     },
     "metadata": {},
     "output_type": "display_data"
    }
   ],
   "source": [
    "plt.figure(figsize=(20,10))\n",
    "sns.barplot(data=avg_salary_by_location10, \n",
    "            x='company_location', y='salary_in_usd')\n",
    "plt.xticks(rotation=45, ha='right')\n",
    "plt.show()"
   ]
  },
  {
   "cell_type": "code",
   "execution_count": null,
   "id": "4b542375",
   "metadata": {},
   "outputs": [],
   "source": []
  }
 ],
 "metadata": {
  "kernelspec": {
   "display_name": "Python 3 (ipykernel)",
   "language": "python",
   "name": "python3"
  },
  "language_info": {
   "codemirror_mode": {
    "name": "ipython",
    "version": 3
   },
   "file_extension": ".py",
   "mimetype": "text/x-python",
   "name": "python",
   "nbconvert_exporter": "python",
   "pygments_lexer": "ipython3",
   "version": "3.10.9"
  }
 },
 "nbformat": 4,
 "nbformat_minor": 5
}
